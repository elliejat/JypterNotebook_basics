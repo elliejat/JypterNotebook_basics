{
 "cells": [
  {
   "cell_type": "code",
   "execution_count": null,
   "id": "d6c5144b",
   "metadata": {},
   "outputs": [],
   "source": [
    "#LAB 2 \n",
    "#Ellen Jatul"
   ]
  },
  {
   "cell_type": "code",
   "execution_count": 39,
   "id": "8aff5d2a",
   "metadata": {},
   "outputs": [
    {
     "name": "stdout",
     "output_type": "stream",
     "text": [
      "Please enter a number between 25 and 75: 7\n",
      "The number you entered is not within the range of 25-to-75\n",
      "Please enter a number between 25 and 75: 8\n",
      "The number you entered is not within the range of 25-to-75\n",
      "Please enter a number between 25 and 75: 25\n",
      "Great!  Your number is 25\n"
     ]
    }
   ],
   "source": [
    "range_of_nums = []\n",
    "for nextnum in range(25, 76):\n",
    "    range_of_nums.append(nextnum)\n",
    "# print(range_of_nums)\n",
    "\n",
    "entry_done = False\n",
    "while not entry_done:\n",
    "    try:\n",
    "        user_number = int(input(\"Please enter a number between 25 and 75: \"))\n",
    "        if user_number in range_of_nums:\n",
    "            print(f\"Great!  Your number is {user_number}\")\n",
    "            entry_done = True\n",
    "        else:\n",
    "            print(\"The number you entered is not within the range of 25-to-75\")\n",
    "    except:\n",
    "        print(\"You did not enter a valid number\")"
   ]
  },
  {
   "cell_type": "code",
   "execution_count": null,
   "id": "a16ce540",
   "metadata": {},
   "outputs": [],
   "source": [
    "american_beer= ['Budweiser','Miller Lite','Corona']\n",
    "\n",
    "while True:\n",
    "    try:\n",
    "        ask= str(input(\"Enter american beer brand:\")).upper()\n",
    "        if ask in american_beer:\n",
    "            print(\"American made\")\n",
    "        if ask==\"Done\":\n",
    "            return False   \n",
    "    except:\n",
    "         print(\"Not american made\")"
   ]
  },
  {
   "cell_type": "code",
   "execution_count": 21,
   "id": "3fe7a5c7",
   "metadata": {},
   "outputs": [
    {
     "name": "stdout",
     "output_type": "stream",
     "text": [
      "[0, 1, 4, 9, 16, 25, 36, 49, 64, 81, 100, 121, 144, 169, 196, 225, 256, 289, 324, 361, 400, 441, 484, 529, 576, 625, 676, 729, 784, 841, 900, 961, 1024, 1089, 1156, 1225, 1296, 1369, 1444, 1521, 1600, 1681, 1764, 1849, 1936, 2025, 2116, 2209, 2304, 2401, 2500, 2601, 2704, 2809, 2916, 3025, 3136, 3249, 3364, 3481, 3600, 3721, 3844, 3969, 4096, 4225, 4356, 4489, 4624, 4761, 4900, 5041, 5184, 5329, 5476, 5625, 5776, 5929, 6084, 6241, 6400, 6561, 6724, 6889, 7056, 7225, 7396, 7569, 7744, 7921, 8100, 8281, 8464, 8649, 8836, 9025, 9216, 9409, 9604, 9801, 10000]\n"
     ]
    }
   ],
   "source": [
    "sq= [value**2 for value in range (0,101)]\n",
    "print(sq)"
   ]
  },
  {
   "cell_type": "code",
   "execution_count": 52,
   "id": "42229dc0",
   "metadata": {},
   "outputs": [
    {
     "name": "stdout",
     "output_type": "stream",
     "text": [
      "[30, 31, 32, 33, 34, 35, 36, 37, 38, 39, 40, 41, 42, 43, 44, 45, 46, 47, 48, 49, 50, 51, 52, 53, 54, 55, 56, 57, 58, 59]\n",
      "[98, 99, 100]\n",
      "[0, 1, 2, 3, 4, 5, 6, 7, 8, 9, 10, 11, 12, 13, 14]\n",
      "[0, 3, 6, 9, 12, 15, 18, 21, 24, 27, 30, 33, 36, 39, 42, 45, 48, 51, 54, 57, 60, 63, 66, 69, 72, 75, 78, 81, 84, 87, 90, 93, 96, 99]\n",
      "Numbers divisable by 4:  0\n",
      "Numbers divisable by 4:  4\n",
      "Numbers divisable by 4:  8\n",
      "Numbers divisable by 4:  12\n",
      "Numbers divisable by 4:  16\n",
      "Numbers divisable by 4:  20\n",
      "Numbers divisable by 4:  24\n",
      "Numbers divisable by 4:  28\n",
      "Numbers divisable by 4:  32\n",
      "Numbers divisable by 4:  36\n",
      "Numbers divisable by 4:  40\n",
      "Numbers divisable by 4:  44\n",
      "Numbers divisable by 4:  48\n",
      "Numbers divisable by 4:  52\n",
      "Numbers divisable by 4:  56\n",
      "Numbers divisable by 4:  60\n",
      "Numbers divisable by 4:  64\n",
      "Numbers divisable by 4:  68\n",
      "Numbers divisable by 4:  72\n",
      "Numbers divisable by 4:  76\n",
      "Numbers divisable by 4:  80\n",
      "Numbers divisable by 4:  84\n",
      "Numbers divisable by 4:  88\n",
      "Numbers divisable by 4:  92\n",
      "Numbers divisable by 4:  96\n",
      "Numbers divisable by 4:  100\n"
     ]
    }
   ],
   "source": [
    "list= []\n",
    "for num in range(0,101):\n",
    "    list.append(num)\n",
    "print(list[30:60])\n",
    "print(list[-3:])\n",
    "print(list[:15])\n",
    "print(list[0:101:3])\n",
    "\n",
    "for num in list:\n",
    "    if (list[num] %4 ==0):\n",
    "        print(\"Numbers divisable by 4: \", num)\n"
   ]
  },
  {
   "cell_type": "code",
   "execution_count": null,
   "id": "3ecf35a9",
   "metadata": {},
   "outputs": [],
   "source": [
    "new_colors= []\n",
    "colors= ['blue', 'purple', 'pink', 'white', 'black']\n",
    "colors= tuple(colors) #convert to tuple\n",
    "\n",
    "for nums in colors:\n",
    "    print(colors) #print tuple\n",
    "\n",
    "colors=list(new_colors) #convert into list\n",
    "new_colors.append('brown') #adding to list\n",
    "new_colors.append('green')\n",
    "print(new_colors)\n",
    "\n",
    "ask= str(input(\"What is your favorite color?\")).lower()\n",
    "\n",
    "if ask in new_colors:\n",
    "    print(\"Color is in list!\")\n",
    "else:\n",
    "    print(\"not in list\") "
   ]
  }
 ],
 "metadata": {
  "kernelspec": {
   "display_name": "Python 3 (ipykernel)",
   "language": "python",
   "name": "python3"
  },
  "language_info": {
   "codemirror_mode": {
    "name": "ipython",
    "version": 3
   },
   "file_extension": ".py",
   "mimetype": "text/x-python",
   "name": "python",
   "nbconvert_exporter": "python",
   "pygments_lexer": "ipython3",
   "version": "3.9.12"
  }
 },
 "nbformat": 4,
 "nbformat_minor": 5
}
