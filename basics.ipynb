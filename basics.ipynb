{
 "cells": [
  {
   "cell_type": "markdown",
   "metadata": {},
   "source": [
    "### Assignment #1: Basics, Lists, Conditional Execution\n",
    "Due: 2022-09-06"
   ]
  },
  {
   "cell_type": "markdown",
   "metadata": {},
   "source": [
    "1. Create a list that contains the following numbers: 1, 2, 3, 4, 5, 6, 7, 8, 9, 10<br>\n",
    "    - Print only the odd numbers<br>\n",
    "    - Print only the even numbers"
   ]
  },
  {
   "cell_type": "code",
   "execution_count": 5,
   "metadata": {
    "scrolled": true
   },
   "outputs": [
    {
     "name": "stdout",
     "output_type": "stream",
     "text": [
      "1\n",
      "3\n",
      "5\n",
      "7\n",
      "9\n"
     ]
    }
   ],
   "source": [
    "list = [1,2,3,4,5,6,7,8,9,10]\n",
    "for num in list:\n",
    "    if num%2 !=0:\n",
    "        print(num)\n",
    "    \n",
    "    "
   ]
  },
  {
   "cell_type": "code",
   "execution_count": 7,
   "metadata": {},
   "outputs": [
    {
     "name": "stdout",
     "output_type": "stream",
     "text": [
      "2\n",
      "4\n",
      "6\n",
      "8\n",
      "10\n"
     ]
    }
   ],
   "source": [
    "list = [1,2,3,4,5,6,7,8,9,10]\n",
    "for num in list:\n",
    "    if num%2 ==0:\n",
    "        print(num)"
   ]
  },
  {
   "cell_type": "code",
   "execution_count": 13,
   "metadata": {},
   "outputs": [
    {
     "name": "stdout",
     "output_type": "stream",
     "text": [
      "odd list: [1]\n",
      "even list:  []\n",
      "odd list: [1]\n",
      "even list:  [2]\n",
      "odd list: [1, 3]\n",
      "even list:  [2]\n",
      "odd list: [1, 3]\n",
      "even list:  [2, 4]\n",
      "odd list: [1, 3, 5]\n",
      "even list:  [2, 4]\n",
      "odd list: [1, 3, 5]\n",
      "even list:  [2, 4, 6]\n",
      "odd list: [1, 3, 5, 7]\n",
      "even list:  [2, 4, 6]\n",
      "odd list: [1, 3, 5, 7]\n",
      "even list:  [2, 4, 6, 8]\n",
      "odd list: [1, 3, 5, 7, 9]\n",
      "even list:  [2, 4, 6, 8]\n",
      "odd list: [1, 3, 5, 7, 9]\n",
      "even list:  [2, 4, 6, 8, 10]\n"
     ]
    }
   ],
   "source": [
    "#another way to split list between even and odd if you know nums in list\n",
    "def split(list):\n",
    "    even= []\n",
    "    odd=[]\n",
    "    for i in list:\n",
    "        if(i%2 !=0):\n",
    "            odd.append(i)\n",
    "        else:\n",
    "            even.append(i)\n",
    "        print(\"odd list:\", odd)\n",
    "        print(\"even list: \", even)\n",
    "\n",
    "list=[1,2,3,4,5,6,7,8,9,10]\n",
    "split(list)"
   ]
  },
  {
   "cell_type": "code",
   "execution_count": null,
   "metadata": {},
   "outputs": [],
   "source": [
    "#another way not sure if its efficient\n",
    "def Split(list):\n",
    "    even = [ele for ele in list if ele%2 ==0]\n",
    "    odd = [ele for ele in list if ele%2 !=0]\n",
    "    print(\"Even lists:\", even)\n",
    "    print(\"Odd lists:\", odd)\n",
    "\n",
    "list = [1,2,3,4, 5,6, 7,8,9,10]\n",
    "Split(list)"
   ]
  },
  {
   "cell_type": "markdown",
   "metadata": {},
   "source": [
    "2. A company has determined that its annual profit is typically determined as the percentage of total sales. Write a program that:<br>\n",
    "    - Asks the user to enter the projected amount of total sales<br>\n",
    "    - Then, asks the user to enter the profit rate percentage<br>\n",
    "    - Then displays the profit that will be made from the total sales"
   ]
  },
  {
   "cell_type": "code",
   "execution_count": null,
   "metadata": {},
   "outputs": [],
   "source": [
    "# annual profit= percentage of total sales\n",
    "projected= float(input(\"what is the projected amount of total sales?\"))\n",
    "profit_rate= float(input(\"enter profit rate in percentage: \"))\n",
    "print(\"total profit \", projected*(profit_rate/100))"
   ]
  },
  {
   "cell_type": "markdown",
   "metadata": {},
   "source": [
    "3. A cookie recipe calls for the following ingredients:<br>\n",
    "\n",
    "    - 1.5 cups of sugar<br>\n",
    "    - 1 cup of butter<br>\n",
    "    - 2.75 cups of flour<br>\n",
    "\n",
    "The recipe produces 48 cookies with this amount of ingredients.  Write a program that:<br>\n",
    "    - Asks the user how many cookies they want to make<br>\n",
    "    - Then displays the number of cups of each ingredient needed for the specified number of cookies<br>\n",
    "    - Use the following output format: \"You need x cups of sugar, y cups of butter, and z cups of flour.\""
   ]
  },
  {
   "cell_type": "code",
   "execution_count": null,
   "metadata": {},
   "outputs": [],
   "source": [
    "sugar= 1.5*ratio\n",
    "butter= 1*ratio\n",
    "flour= 2.75*ratio\n",
    "base= 48\n",
    "\n",
    "serving_size= int(input(\"how many cookies do you want to make?\"))\n",
    "ratio= serving_size/base\n",
    "\n",
    "print(f\"You need {sugar} cups of sugar, {butter} cups of butter, and {flour} cups of flour.\")"
   ]
  },
  {
   "cell_type": "markdown",
   "metadata": {},
   "source": [
    "4. Create a list that contains elements that represent your favorite kinds of cookies (at least three). Then, write a Python script that does what the program flow diagram below depicts:\n",
    "    - Ask the user to input their favorite kind of cookie\n",
    "    - Check to see if their favorite cookie type is found in the list\n",
    "        - If the cookie is in the list, output: \"Here, have a cookie, and enjoy!\"\n",
    "        - If the cookie is not in the list, output: \"Sorry, we don't have that kind.\""
   ]
  },
  {
   "cell_type": "markdown",
   "metadata": {},
   "source": [
    "![title](CookiesProgram.png)"
   ]
  },
  {
   "cell_type": "code",
   "execution_count": 1,
   "metadata": {},
   "outputs": [
    {
     "name": "stdout",
     "output_type": "stream",
     "text": [
      "what is your favortie cookie?Molasses\n",
      "Here,have a cookie, and enjoy!\n"
     ]
    }
   ],
   "source": [
    "fav_cookies= [\"brown sugar\", \"molasses\",\"snicker doodle\" ]\n",
    "ask=input(\"what is your favortie cookie?\").lower()\n",
    "if ask in fav_cookies:\n",
    "    print(\"Here,have a cookie, and enjoy!\")\n",
    "else:\n",
    "    print(\"Sorry, we don't have that kind.\")"
   ]
  },
  {
   "cell_type": "markdown",
   "metadata": {},
   "source": [
    "5. Create a list that contains elements that represent various levels of quarterly sales [50000, 25000, 10000, 5000]. Then, write a Python script that does what the program flow diagram below depicts:\n",
    "    - Ask the user how much merchandise they sold during the quarter\n",
    "    - Compare the amount entered to those sales values found in the list\n",
    "        - If their sales equaled or exceeded 50000, output: \"Great quarter! Your bonus is {8% of sales}\"\n",
    "        - If their sales equaled or exceeded 25000, output: \"Decent quarter! Your bonus is {5% of sales}\"\n",
    "        - If their sales equaled or exceeded 10000, output: \"OK quarter! Your bonus is {3% of sales}\"\n",
    "        - If their sales were less than 10000, output: \"Tough times! Hopefully, next quarter is a better one.\""
   ]
  },
  {
   "cell_type": "markdown",
   "metadata": {},
   "source": [
    "![title](SalesAndBonus.png)"
   ]
  },
  {
   "cell_type": "code",
   "execution_count": null,
   "metadata": {},
   "outputs": [],
   "source": [
    "qsales= [50000,25000,10000,5000]\n",
    "q=int(input(\"How much merchandise did you sell during the quarter? \"))\n",
    "if q>= 50000:\n",
    "    print(f\"Great quarter! Your bonus is {q*.08} of sales\")\n",
    "if (q>=25000 and q<50000): \n",
    "    print(f\"Great quarter! Your bonus is {q*.05} of sales\")\n",
    "if (q<1000):\n",
    "    print(\"Tough times! Hopefully, next quarter is a better one.\")\n"
   ]
  }
 ],
 "metadata": {
  "kernelspec": {
   "display_name": "Python 3 (ipykernel)",
   "language": "python",
   "name": "python3"
  },
  "language_info": {
   "codemirror_mode": {
    "name": "ipython",
    "version": 3
   },
   "file_extension": ".py",
   "mimetype": "text/x-python",
   "name": "python",
   "nbconvert_exporter": "python",
   "pygments_lexer": "ipython3",
   "version": "3.9.12"
  }
 },
 "nbformat": 4,
 "nbformat_minor": 4
}
