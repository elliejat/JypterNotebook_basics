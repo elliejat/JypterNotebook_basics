{
 "cells": [
  {
   "cell_type": "code",
   "execution_count": null,
   "id": "f59f6daa",
   "metadata": {},
   "outputs": [],
   "source": [
    "lab3 \n",
    "9/13/2022\n",
    "Ellen Jatul\n",
    "DICTIONARIES"
   ]
  },
  {
   "cell_type": "code",
   "execution_count": null,
   "id": "8ed26e4e",
   "metadata": {},
   "outputs": [],
   "source": [
    "1. #create dict contains jersy nums baseball players w their last names at least 5"
   ]
  },
  {
   "cell_type": "code",
   "execution_count": 1,
   "id": "d929c4e8",
   "metadata": {},
   "outputs": [
    {
     "name": "stdout",
     "output_type": "stream",
     "text": [
      "{35: 'KB', 4: 'Yadi', 27: 'Cruz', 22: 'El Ninio', 10: 'yo yo'}\n"
     ]
    }
   ],
   "source": [
    "bb_player= {\n",
    "    2:\"Jeter\",\n",
    "    3:\"Babe Ruth\",\n",
    "    27:\"Cruz\",\n",
    "    5:\"Pujols\",\n",
    "    8:\"Ripken\"    \n",
    "}\n",
    "print(bb_player)"
   ]
  },
  {
   "cell_type": "code",
   "execution_count": null,
   "id": "5d834b1c",
   "metadata": {},
   "outputs": [],
   "source": [
    "#adding 2 new key values"
   ]
  },
  {
   "cell_type": "code",
   "execution_count": 3,
   "id": "6d911452",
   "metadata": {},
   "outputs": [
    {
     "name": "stdout",
     "output_type": "stream",
     "text": [
      "{35: 'KB', 4: 'Yadi', 27: 'Cruz', 22: 'El Ninio', 10: 'yo yo'}\n",
      "{35: 'KB', 4: 'Yadi', 27: 'Cruz', 22: 'El Ninio', 10: 'yo yo', 65: 'Big Maple'}\n"
     ]
    }
   ],
   "source": [
    "bb_player= {\n",
    "    2:\"Jeter\",\n",
    "    3:\"Babe Ruth\",\n",
    "    27:\"Cruz\",\n",
    "    8:\"Pujols\",\n",
    "    8:\"Ripken\"    \n",
    "}\n",
    "print(bb_player)\n",
    "\n",
    "bb_player[9]= \"Williams\" #added to end of dict\n",
    "bb_player[10]= \"jone\"\n",
    "print(bb_player)"
   ]
  },
  {
   "cell_type": "code",
   "execution_count": null,
   "id": "29cb8bfc",
   "metadata": {},
   "outputs": [],
   "source": [
    "#change last name of 1 of key value pair to the name of a different player with the same jersey #"
   ]
  },
  {
   "cell_type": "code",
   "execution_count": 42,
   "id": "2135719a",
   "metadata": {},
   "outputs": [
    {
     "name": "stdout",
     "output_type": "stream",
     "text": [
      "{2: 'Jeter', 3: 'Babe Ruth', 27: 'Cruz', 8: 'Pujols', 55: 'Ripken', 9: 'williams', 10: 'jones'}\n",
      "{2: 'Jeter', 3: 'Babe Ruth', 27: 'Cruz', 8: 'Pujols', 55: 'Ripken', 9: 'williams', 10: 'williams'}\n"
     ]
    }
   ],
   "source": [
    "bb_player= {\n",
    "    2:\"Jeter\",\n",
    "    3:\"Babe Ruth\",\n",
    "    27:\"Cruz\",\n",
    "    8:\"Pujols\",\n",
    "    55:\"Ripken\",\n",
    "    9: \"williams\",\n",
    "    10:\"jones\"\n",
    "}\n",
    "print(bb_player)\n",
    "bb_player[10]= \"Williams\"\n",
    "bb_player[10]= bb_player[9]\n",
    "\n",
    "print(bb_player)                                              # not right"
   ]
  },
  {
   "cell_type": "code",
   "execution_count": null,
   "id": "16b8196f",
   "metadata": {},
   "outputs": [],
   "source": [
    "#delete one of the key value pairs from above dictionary"
   ]
  },
  {
   "cell_type": "code",
   "execution_count": 6,
   "id": "dbdea22e",
   "metadata": {},
   "outputs": [
    {
     "name": "stdout",
     "output_type": "stream",
     "text": [
      "{2: 'Jeter', 3: 'Babe Ruth', 27: 'Cruz', 8: 'Pujols', 55: 'Ripken', 9: 'williams', 10: 'jones'}\n",
      "{3: 'Babe Ruth', 27: 'Cruz', 8: 'Pujols', 55: 'Ripken', 9: 'williams', 10: 'jones'}\n"
     ]
    }
   ],
   "source": [
    "bb_player= {\n",
    "    2:\"Jeter\",\n",
    "    3:\"Babe Ruth\",\n",
    "    27:\"Cruz\",\n",
    "    8:\"Pujols\",\n",
    "    55:\"Ripken\",\n",
    "    9: \"williams\",\n",
    "    10:\"jones\"\n",
    "}\n",
    "print(bb_player)\n",
    "del bb_player[2]\n",
    "print(bb_player)"
   ]
  },
  {
   "cell_type": "code",
   "execution_count": null,
   "id": "cf5b608a",
   "metadata": {},
   "outputs": [],
   "source": [
    "#use get() method to retrieve key-value pair that does not exist from dict"
   ]
  },
  {
   "cell_type": "code",
   "execution_count": 8,
   "id": "be9b0c2b",
   "metadata": {},
   "outputs": [
    {
     "name": "stdout",
     "output_type": "stream",
     "text": [
      "{2: 'Jeter', 3: 'Babe Ruth', 27: 'Cruz', 8: 'Pujols', 55: 'Ripken', 9: 'williams', 10: 'jones'}\n",
      "no value- doesnt exist\n"
     ]
    }
   ],
   "source": [
    "bb_player= {\n",
    "    2:\"Jeter\",\n",
    "    3:\"Babe Ruth\",\n",
    "    27:\"Cruz\",\n",
    "    8:\"Pujols\",\n",
    "    55:\"Ripken\",\n",
    "    9: \"williams\",\n",
    "    10:\"jones\"\n",
    "}\n",
    "print(bb_player)\n",
    "\n",
    "print(bb_player.get(5, \"no value- doesnt exist\"))"
   ]
  },
  {
   "cell_type": "code",
   "execution_count": null,
   "id": "7fb74152",
   "metadata": {},
   "outputs": [],
   "source": [
    "#use for loop that cycles thro all key value pairs included in above dict and print them out"
   ]
  },
  {
   "cell_type": "code",
   "execution_count": 20,
   "id": "59efbc8d",
   "metadata": {},
   "outputs": [
    {
     "name": "stdout",
     "output_type": "stream",
     "text": [
      "{2: 'Jeter', 3: 'Babe Ruth', 27: 'Cruz', 8: 'Pujols', 55: 'Ripken', 9: 'williams', 10: 'jones'}\n",
      "2:Jeter\n",
      "3:Babe Ruth\n",
      "27:Cruz\n",
      "8:Pujols\n",
      "55:Ripken\n",
      "9:williams\n",
      "10:jones\n"
     ]
    }
   ],
   "source": [
    "bb_player= {\n",
    "    2:\"Jeter\",\n",
    "    3:\"Babe Ruth\",\n",
    "    27:\"Cruz\",\n",
    "    8:\"Pujols\",\n",
    "    55:\"Ripken\",\n",
    "    9: \"williams\",\n",
    "    10:\"jones\"\n",
    "}\n",
    "print(bb_player)\n",
    "\n",
    "for k,v in bb_player.items():\n",
    "    print(str(k)+ \":\" + v)\n"
   ]
  },
  {
   "cell_type": "code",
   "execution_count": null,
   "id": "fe6371ef",
   "metadata": {},
   "outputs": [],
   "source": [
    "#use for loop to cycle thro only values in above dict"
   ]
  },
  {
   "cell_type": "code",
   "execution_count": 17,
   "id": "e75e4c76",
   "metadata": {},
   "outputs": [
    {
     "name": "stdout",
     "output_type": "stream",
     "text": [
      "{2: 'Jeter', 3: 'Babe Ruth', 27: 'Cruz', 8: 'Pujols', 55: 'Ripken', 9: 'williams', 10: 'jones'}\n",
      "Jeter\n",
      "Babe Ruth\n",
      "Cruz\n",
      "Pujols\n",
      "Ripken\n",
      "williams\n",
      "jones\n"
     ]
    }
   ],
   "source": [
    "bb_player= {\n",
    "    2:\"Jeter\",\n",
    "    3:\"Babe Ruth\",\n",
    "    27:\"Cruz\",\n",
    "    8:\"Pujols\",\n",
    "    55:\"Ripken\",\n",
    "    9: \"williams\",\n",
    "    10:\"jones\"\n",
    "}\n",
    "print(bb_player)\n",
    "for v in bb_player.values():\n",
    "    print(v)"
   ]
  },
  {
   "cell_type": "code",
   "execution_count": null,
   "id": "335830ee",
   "metadata": {},
   "outputs": [],
   "source": [
    "#Create a dictionary whose 5 keys are the names of your favorite entrees, while the values are dictionaries themselves that contain the parts of the entree (i.e. meat item, vegetable, starch).  HINT: this is a dictionary that contains another dictionary.\n"
   ]
  },
  {
   "cell_type": "code",
   "execution_count": null,
   "id": "96beddd8",
   "metadata": {},
   "outputs": [],
   "source": [
    "fav_food ={\n",
    "    'pasta': ['spicyness','olives','artichokes'],\n",
    "    'bim bim bap':['kimchi','pickled radish','edamame'],\n",
    "    'curry':['zuchinni','cabbage'],\n",
    "    'sandwhich':['lettuce','tomatoes','hummus'],\n",
    "    'crepe':['nutella','strawberry']\n",
    "}\n"
   ]
  },
  {
   "cell_type": "code",
   "execution_count": null,
   "id": "e8c44c24",
   "metadata": {},
   "outputs": [],
   "source": [
    "#Write a for loop that cycles through each of the entrees in the dictionary above, along with an inner for loop that cycles through each of items in the entree."
   ]
  },
  {
   "cell_type": "code",
   "execution_count": 30,
   "id": "940143c2",
   "metadata": {},
   "outputs": [
    {
     "name": "stdout",
     "output_type": "stream",
     "text": [
      "pasta\n",
      "bim bim bap\n",
      "curry\n",
      "sandwhich\n",
      "crepe\n",
      "['spicyness', 'olives', 'artichokes']\n",
      "['kimchi', 'pickled radish', 'edamame']\n",
      "['zuchinni', 'cabbage']\n",
      "['lettuce', 'tomatoes', 'hummus']\n",
      "['nutella', 'strawberry']\n"
     ]
    }
   ],
   "source": [
    "fav_food ={\n",
    "    'pasta': ['spicyness','olives','artichokes'],\n",
    "    'bim bim bap':['kimchi','pickled radish','edamame'],\n",
    "    'curry':['zuchinni','cabbage'],\n",
    "    'sandwhich':['lettuce','tomatoes','hummus'],\n",
    "    'crepe':['nutella','strawberry']\n",
    "}\n",
    "for k in fav_food:\n",
    "    print(k)\n",
    "for i in fav_food:\n",
    "    print(fav_food[i])"
   ]
  },
  {
   "cell_type": "code",
   "execution_count": null,
   "id": "84fd266f",
   "metadata": {},
   "outputs": [],
   "source": [
    "# Make several dictionaries, where each dictionary represents a different pet. In each dictionary, include the kind of animal and the owner’s name. Store these dictionaries in a list called pets. Next, loop through your list and as you do, print everything you know about each pet.\n"
   ]
  },
  {
   "cell_type": "code",
   "execution_count": 37,
   "id": "773e3550",
   "metadata": {},
   "outputs": [
    {
     "name": "stdout",
     "output_type": "stream",
     "text": [
      "[{'dog': {'kind': 'poodle', 'owner name': 'Ellen'}}, {'cat': {'kind': 'hairless', 'owner name': 'carolyn'}}, {'horse': {'kind': 'thoroughbred', 'owner name': 'cindy'}}]\n",
      "[{'dog': {'kind': 'poodle', 'owner name': 'Ellen'}}, {'cat': {'kind': 'hairless', 'owner name': 'carolyn'}}, {'horse': {'kind': 'thoroughbred', 'owner name': 'cindy'}}]\n",
      "[{'dog': {'kind': 'poodle', 'owner name': 'Ellen'}}, {'cat': {'kind': 'hairless', 'owner name': 'carolyn'}}, {'horse': {'kind': 'thoroughbred', 'owner name': 'cindy'}}]\n",
      "[{'dog': {'kind': 'poodle', 'owner name': 'Ellen'}}, {'cat': {'kind': 'hairless', 'owner name': 'carolyn'}}, {'horse': {'kind': 'thoroughbred', 'owner name': 'cindy'}}]\n"
     ]
    }
   ],
   "source": [
    "pet_list=[]\n",
    "\n",
    "x={'dog': {'kind': 'poodle', 'owner name':'Ellen' }}\n",
    "y={'cat': {'kind': 'hairless', 'owner name':'carolyn' }}\n",
    "z={'horse': {'kind': 'thoroughbred', 'owner name':'cindy'}}\n",
    "\n",
    "pet_list=[x,y,z]\n",
    "print(pet_list)\n",
    "\n",
    "for i in pet_list:\n",
    "    print(pet_list)\n"
   ]
  },
  {
   "cell_type": "code",
   "execution_count": 33,
   "id": "a9632867",
   "metadata": {},
   "outputs": [
    {
     "name": "stdout",
     "output_type": "stream",
     "text": [
      "{'x': {'dog': {'kind': 'poodle', 'owner name': 'Ellen'}}, 'y': {'cat': {'kind': 'hairless', 'owner name': 'carolyn'}}, 'z': {'horse': {'kind': 'thoroughbred', 'owner name': 'cindy'}}}\n"
     ]
    }
   ],
   "source": [
    "#nested dict\n",
    "nested_dict = dict(x={'dog': {'kind': 'poodle', 'owner name':'Ellen'}}, y={'cat': {'kind': 'hairless', 'owner name':'carolyn' }}, z={'horse': {'kind': 'thoroughbred', 'owner name':'cindy'}})\n",
    "\n",
    "print(nested_dict)"
   ]
  }
 ],
 "metadata": {
  "kernelspec": {
   "display_name": "Python 3 (ipykernel)",
   "language": "python",
   "name": "python3"
  },
  "language_info": {
   "codemirror_mode": {
    "name": "ipython",
    "version": 3
   },
   "file_extension": ".py",
   "mimetype": "text/x-python",
   "name": "python",
   "nbconvert_exporter": "python",
   "pygments_lexer": "ipython3",
   "version": "3.9.12"
  }
 },
 "nbformat": 4,
 "nbformat_minor": 5
}
