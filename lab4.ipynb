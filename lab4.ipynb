{
 "cells": [
  {
   "cell_type": "markdown",
   "id": "d192748c",
   "metadata": {},
   "source": [
    "### Lab #3\n",
    "2022-09-20<br>\n",
    "Ellen Jatul"
   ]
  },
  {
   "cell_type": "markdown",
   "id": "9e7ec8f4",
   "metadata": {},
   "source": [
    "1. Write a list comprehension that creates a list of numbers from zero to five hundred that are divisible by 25."
   ]
  },
  {
   "cell_type": "code",
   "execution_count": 8,
   "id": "63fe8f51",
   "metadata": {},
   "outputs": [
    {
     "name": "stdout",
     "output_type": "stream",
     "text": [
      "[0, 25, 50, 75, 100, 125, 150, 175, 200, 225, 250, 275, 300, 325, 350, 375, 400, 425, 450, 475, 500]\n"
     ]
    }
   ],
   "source": [
    "l=[x for x in range(0,501) if x%25==0]\n",
    "print(l)"
   ]
  },
  {
   "cell_type": "markdown",
   "id": "149f94bf",
   "metadata": {},
   "source": [
    "2. Write a list comprehension that creates a list of 25 random numbers that are between 0 and 1,000,000."
   ]
  },
  {
   "cell_type": "code",
   "execution_count": 10,
   "id": "bdf92d22",
   "metadata": {},
   "outputs": [
    {
     "name": "stdout",
     "output_type": "stream",
     "text": [
      "[1762, 83189, 31941, 20769, 74298, 75467, 86243, 13765, 32623, 40599, 21350, 72062, 63339, 29225, 83828, 86181, 32029, 90159, 19362, 96599, 47016, 6535, 57275, 44042, 28399]\n"
     ]
    }
   ],
   "source": [
    "import random\n",
    "\n",
    "res= random.sample(range(0,100001), 25)\n",
    "print(res)"
   ]
  },
  {
   "cell_type": "code",
   "execution_count": 13,
   "id": "16c988e8",
   "metadata": {},
   "outputs": [
    {
     "name": "stdout",
     "output_type": "stream",
     "text": [
      "[25112, 76696, 89065, 77450, 5631, 95674, 1949, 2146, 91125, 21076, 83251, 99869, 67692, 78240, 45349, 17881, 7754, 54514, 48855, 22054, 36618, 31742, 61468, 30760, 15588]\n"
     ]
    }
   ],
   "source": [
    "#list comprehension\n",
    "import random\n",
    "\n",
    "list=[random.randrange(0,100001) for i in range(25)]\n",
    "print(list)"
   ]
  },
  {
   "cell_type": "markdown",
   "id": "063b9cfd",
   "metadata": {},
   "source": [
    "3. Write a list comprehension that creates a list of 10 words from another list of 25 words that begin with the capital letter 'S'."
   ]
  },
  {
   "cell_type": "code",
   "execution_count": 33,
   "id": "b62b1109",
   "metadata": {},
   "outputs": [
    {
     "ename": "TypeError",
     "evalue": "'type' object is not subscriptable",
     "output_type": "error",
     "traceback": [
      "\u001b[1;31m---------------------------------------------------------------------------\u001b[0m",
      "\u001b[1;31mTypeError\u001b[0m                                 Traceback (most recent call last)",
      "Input \u001b[1;32mIn [33]\u001b[0m, in \u001b[0;36m<cell line: 5>\u001b[1;34m()\u001b[0m\n\u001b[0;32m      1\u001b[0m \u001b[38;5;28;01mimport\u001b[39;00m \u001b[38;5;21;01mrandom\u001b[39;00m\n\u001b[0;32m      2\u001b[0m Swords\u001b[38;5;241m=\u001b[39m[\u001b[38;5;124m'\u001b[39m\u001b[38;5;124mSam\u001b[39m\u001b[38;5;124m'\u001b[39m,\u001b[38;5;124m'\u001b[39m\u001b[38;5;124mSoftball\u001b[39m\u001b[38;5;124m'\u001b[39m, \u001b[38;5;124m'\u001b[39m\u001b[38;5;124mSofa\u001b[39m\u001b[38;5;124m'\u001b[39m,\u001b[38;5;124m'\u001b[39m\u001b[38;5;124mSoftware\u001b[39m\u001b[38;5;124m'\u001b[39m,\u001b[38;5;124m'\u001b[39m\u001b[38;5;124mSmile\u001b[39m\u001b[38;5;124m'\u001b[39m,\u001b[38;5;124m'\u001b[39m\u001b[38;5;124mShy\u001b[39m\u001b[38;5;124m'\u001b[39m,\u001b[38;5;124m'\u001b[39m\u001b[38;5;124mSang\u001b[39m\u001b[38;5;124m'\u001b[39m,\u001b[38;5;124m'\u001b[39m\u001b[38;5;124mSports\u001b[39m\u001b[38;5;124m'\u001b[39m,\u001b[38;5;124m'\u001b[39m\u001b[38;5;124mSeed\u001b[39m\u001b[38;5;124m'\u001b[39m,\u001b[38;5;124m'\u001b[39m\u001b[38;5;124mStage\u001b[39m\u001b[38;5;124m'\u001b[39m,\u001b[38;5;124m'\u001b[39m\u001b[38;5;124mSheep\u001b[39m\u001b[38;5;124m'\u001b[39m,\u001b[38;5;124m'\u001b[39m\u001b[38;5;124mSoak\u001b[39m\u001b[38;5;124m'\u001b[39m,\u001b[38;5;124m'\u001b[39m\u001b[38;5;124mSeal\u001b[39m\u001b[38;5;124m'\u001b[39m,\u001b[38;5;124m'\u001b[39m\u001b[38;5;124mShirt\u001b[39m\u001b[38;5;124m'\u001b[39m,\u001b[38;5;124m'\u001b[39m\u001b[38;5;124mSack\u001b[39m\u001b[38;5;124m'\u001b[39m,\u001b[38;5;124m'\u001b[39m\u001b[38;5;124mScream\u001b[39m\u001b[38;5;124m'\u001b[39m,\n\u001b[0;32m      3\u001b[0m         \u001b[38;5;124m'\u001b[39m\u001b[38;5;124mShoe\u001b[39m\u001b[38;5;124m'\u001b[39m,\u001b[38;5;124m'\u001b[39m\u001b[38;5;124mStone\u001b[39m\u001b[38;5;124m'\u001b[39m,\u001b[38;5;124m'\u001b[39m\u001b[38;5;124mSeason\u001b[39m\u001b[38;5;124m'\u001b[39m,\u001b[38;5;124m'\u001b[39m\u001b[38;5;124mShark\u001b[39m\u001b[38;5;124m'\u001b[39m,\u001b[38;5;124m'\u001b[39m\u001b[38;5;124mSing\u001b[39m\u001b[38;5;124m'\u001b[39m,\u001b[38;5;124m'\u001b[39m\u001b[38;5;124mShell\u001b[39m\u001b[38;5;124m'\u001b[39m,\u001b[38;5;124m'\u001b[39m\u001b[38;5;124mStop\u001b[39m\u001b[38;5;124m'\u001b[39m ]\n\u001b[1;32m----> 5\u001b[0m l\u001b[38;5;241m=\u001b[39m[x \u001b[38;5;28;01mfor\u001b[39;00m x \u001b[38;5;129;01min\u001b[39;00m Swords \u001b[38;5;28;01mfor\u001b[39;00m x \u001b[38;5;129;01min\u001b[39;00m \u001b[38;5;28mrange\u001b[39m[\u001b[38;5;241m0\u001b[39m:\u001b[38;5;241m10\u001b[39m]]\n\u001b[0;32m      6\u001b[0m \u001b[38;5;28mprint\u001b[39m(l)\n",
      "Input \u001b[1;32mIn [33]\u001b[0m, in \u001b[0;36m<listcomp>\u001b[1;34m(.0)\u001b[0m\n\u001b[0;32m      1\u001b[0m \u001b[38;5;28;01mimport\u001b[39;00m \u001b[38;5;21;01mrandom\u001b[39;00m\n\u001b[0;32m      2\u001b[0m Swords\u001b[38;5;241m=\u001b[39m[\u001b[38;5;124m'\u001b[39m\u001b[38;5;124mSam\u001b[39m\u001b[38;5;124m'\u001b[39m,\u001b[38;5;124m'\u001b[39m\u001b[38;5;124mSoftball\u001b[39m\u001b[38;5;124m'\u001b[39m, \u001b[38;5;124m'\u001b[39m\u001b[38;5;124mSofa\u001b[39m\u001b[38;5;124m'\u001b[39m,\u001b[38;5;124m'\u001b[39m\u001b[38;5;124mSoftware\u001b[39m\u001b[38;5;124m'\u001b[39m,\u001b[38;5;124m'\u001b[39m\u001b[38;5;124mSmile\u001b[39m\u001b[38;5;124m'\u001b[39m,\u001b[38;5;124m'\u001b[39m\u001b[38;5;124mShy\u001b[39m\u001b[38;5;124m'\u001b[39m,\u001b[38;5;124m'\u001b[39m\u001b[38;5;124mSang\u001b[39m\u001b[38;5;124m'\u001b[39m,\u001b[38;5;124m'\u001b[39m\u001b[38;5;124mSports\u001b[39m\u001b[38;5;124m'\u001b[39m,\u001b[38;5;124m'\u001b[39m\u001b[38;5;124mSeed\u001b[39m\u001b[38;5;124m'\u001b[39m,\u001b[38;5;124m'\u001b[39m\u001b[38;5;124mStage\u001b[39m\u001b[38;5;124m'\u001b[39m,\u001b[38;5;124m'\u001b[39m\u001b[38;5;124mSheep\u001b[39m\u001b[38;5;124m'\u001b[39m,\u001b[38;5;124m'\u001b[39m\u001b[38;5;124mSoak\u001b[39m\u001b[38;5;124m'\u001b[39m,\u001b[38;5;124m'\u001b[39m\u001b[38;5;124mSeal\u001b[39m\u001b[38;5;124m'\u001b[39m,\u001b[38;5;124m'\u001b[39m\u001b[38;5;124mShirt\u001b[39m\u001b[38;5;124m'\u001b[39m,\u001b[38;5;124m'\u001b[39m\u001b[38;5;124mSack\u001b[39m\u001b[38;5;124m'\u001b[39m,\u001b[38;5;124m'\u001b[39m\u001b[38;5;124mScream\u001b[39m\u001b[38;5;124m'\u001b[39m,\n\u001b[0;32m      3\u001b[0m         \u001b[38;5;124m'\u001b[39m\u001b[38;5;124mShoe\u001b[39m\u001b[38;5;124m'\u001b[39m,\u001b[38;5;124m'\u001b[39m\u001b[38;5;124mStone\u001b[39m\u001b[38;5;124m'\u001b[39m,\u001b[38;5;124m'\u001b[39m\u001b[38;5;124mSeason\u001b[39m\u001b[38;5;124m'\u001b[39m,\u001b[38;5;124m'\u001b[39m\u001b[38;5;124mShark\u001b[39m\u001b[38;5;124m'\u001b[39m,\u001b[38;5;124m'\u001b[39m\u001b[38;5;124mSing\u001b[39m\u001b[38;5;124m'\u001b[39m,\u001b[38;5;124m'\u001b[39m\u001b[38;5;124mShell\u001b[39m\u001b[38;5;124m'\u001b[39m,\u001b[38;5;124m'\u001b[39m\u001b[38;5;124mStop\u001b[39m\u001b[38;5;124m'\u001b[39m ]\n\u001b[1;32m----> 5\u001b[0m l\u001b[38;5;241m=\u001b[39m[x \u001b[38;5;28;01mfor\u001b[39;00m x \u001b[38;5;129;01min\u001b[39;00m Swords \u001b[38;5;28;01mfor\u001b[39;00m x \u001b[38;5;129;01min\u001b[39;00m \u001b[38;5;28;43mrange\u001b[39;49m\u001b[43m[\u001b[49m\u001b[38;5;241;43m0\u001b[39;49m\u001b[43m:\u001b[49m\u001b[38;5;241;43m10\u001b[39;49m\u001b[43m]\u001b[49m]\n\u001b[0;32m      6\u001b[0m \u001b[38;5;28mprint\u001b[39m(l)\n",
      "\u001b[1;31mTypeError\u001b[0m: 'type' object is not subscriptable"
     ]
    }
   ],
   "source": [
    "import random\n",
    "Swords=['Sam','Softball', 'Sofa','Software','Smile','Shy','Sang','Sports','Seed','Stage','Sheep','Soak','Seal','Shirt','Sack','Scream',\n",
    "        'Shoe','Stone','Season','Shark','Sing','Shell','Stop' ]\n",
    "\n",
    "l=[x for x in Swords ]\n",
    "print(l)"
   ]
  },
  {
   "cell_type": "markdown",
   "id": "d8a72fc6",
   "metadata": {},
   "source": [
    "4. Create three sets of numbers (integers). Then:<br>\n",
    "    a. Find the intersection of the first and third sets.<br>\n",
    "    b. Find the difference of the second set minus the first set.<br>\n",
    "    c. Find elements of the first set and the second set that are NOT common to each set.<br>\n",
    "    d. Then, using the resulting set from question c, find the elements of the third set with the aforementioned resulting set that ARE common to both."
   ]
  },
  {
   "cell_type": "code",
   "execution_count": null,
   "id": "cbf61d65",
   "metadata": {},
   "outputs": [],
   "source": [
    "set1= {4,2,5,6}\n",
    "set2= {7,3,6,4,2,1}\n",
    "set3= {11,5,3,6,1}\n",
    "set4 = set1 & set3                                               #prints set that contains the overlapping \n",
    "print(set4)\n",
    "\n",
    "diff= set2.difference(set3)                         #difference() print out elements that dont overlap\n",
    "print(diff)\n",
    "\n",
    "different= set1^set2                                     #show all elements both dont have in common   \n",
    "print(different)\n",
    "\n",
    "all_common= set3.intersection(different)     #intersection() to find common element in all\n",
    "print(all_common)\n"
   ]
  },
  {
   "cell_type": "markdown",
   "id": "15a74ee0",
   "metadata": {},
   "source": [
    "5. Create a string literal out of the longest word you can find. Then:<br>\n",
    "    a. Find the length of the string and print it out.<br>\n",
    "    b. Print out the character that occupies the middle index position of the word.<br>\n",
    "       i.e. if the word is \"capitalize,\" you would print out either the letter 't' or 'a'.<br>\n",
    "       if the word is \"marginalize,\" then you would print out the letter 'n'.<br>\n",
    "    c. Print out all but the first and last three letters of the word."
   ]
  },
  {
   "cell_type": "code",
   "execution_count": 24,
   "id": "09de4e28",
   "metadata": {},
   "outputs": [
    {
     "name": "stdout",
     "output_type": "stream",
     "text": [
      "Enter a word: michelle\n"
     ]
    },
    {
     "data": {
      "text/plain": [
       "'he'"
      ]
     },
     "execution_count": 24,
     "metadata": {},
     "output_type": "execute_result"
    }
   ],
   "source": [
    "def middlechar(s):\n",
    "    return s[(len(s)-1)//2: (len(s)+2)//2]\n",
    "    \n",
    "s= input(\"Enter a word: \")\n",
    "\n",
    "middlechar(s)"
   ]
  },
  {
   "cell_type": "markdown",
   "id": "8cf7e44a",
   "metadata": {},
   "source": [
    "6. Define a function that prints out the phrase, \"Carpe diem!\""
   ]
  },
  {
   "cell_type": "code",
   "execution_count": 41,
   "id": "480260b3",
   "metadata": {},
   "outputs": [
    {
     "name": "stdout",
     "output_type": "stream",
     "text": [
      "Carpe diem!\n"
     ]
    }
   ],
   "source": [
    "def phrase(s):\n",
    "    print( \"Carpe diem!\")\n",
    "\n",
    "phrase(s)"
   ]
  },
  {
   "cell_type": "markdown",
   "id": "d08ff9eb",
   "metadata": {},
   "source": [
    "7. Do the following:<br>\n",
    "    a. Define a function that asks the user to enter a number that is less than 50 and returns the number.<br>\n",
    "    b. Define a function that asks the user to enter a number that is greater than 50 and returns the number.<br>\n",
    "    c. Define a function that adds, subtracts, and multiplies the numbers returned from the first two functions.a. Define a function that asks the user to enter a number that is less than 50 and returns the number.<br>\n",
    "        i. ONLY call the third function, and call the other functions from WITHIN the third function."
   ]
  },
  {
   "cell_type": "code",
   "execution_count": null,
   "id": "8b5359ee",
   "metadata": {},
   "outputs": [],
   "source": [
    "def bigger():\n",
    "    a = int(input('Enter num bigger than 50: '))\n",
    "    return a\n",
    "\n",
    "def smaller():\n",
    "    b = int(input('Enter num smaller than 50: '))\n",
    "    return b\n",
    "    \n",
    "def math(a, b):\n",
    "    x= a+b\n",
    "    y=a-b\n",
    "    z= a*b\n",
    "    return (x,y,z)\n",
    "a= bigger()\n",
    "b=smaller()\n",
    "print(f'answer {math(a, b)}')"
   ]
  }
 ],
 "metadata": {
  "kernelspec": {
   "display_name": "Python 3 (ipykernel)",
   "language": "python",
   "name": "python3"
  },
  "language_info": {
   "codemirror_mode": {
    "name": "ipython",
    "version": 3
   },
   "file_extension": ".py",
   "mimetype": "text/x-python",
   "name": "python",
   "nbconvert_exporter": "python",
   "pygments_lexer": "ipython3",
   "version": "3.9.12"
  }
 },
 "nbformat": 4,
 "nbformat_minor": 5
}
