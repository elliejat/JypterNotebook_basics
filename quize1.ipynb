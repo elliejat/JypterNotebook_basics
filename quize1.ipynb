{
 "cells": [
  {
   "cell_type": "code",
   "execution_count": null,
   "id": "29fb6d63",
   "metadata": {},
   "outputs": [],
   "source": [
    "#create a tip, tax, calculator with specific values"
   ]
  },
  {
   "cell_type": "code",
   "execution_count": 17,
   "id": "c8b34fbf",
   "metadata": {},
   "outputs": [
    {
     "name": "stdout",
     "output_type": "stream",
     "text": [
      "How much did the food cost?10\n",
      "Tip was: 1.8, Tax is: 7.0, Total is:18.8\n"
     ]
    }
   ],
   "source": [
    "#Q1: \n",
    "\n",
    "cost= float(input(\"How much did the food cost?\"))\n",
    "tip= cost*0.18\n",
    "tax= cost*0.7\n",
    "total= cost+tax+tip\n",
    "print(f\"Tip was: {tip}, Tax is: {tax}, Total is:{total}\")"
   ]
  },
  {
   "cell_type": "code",
   "execution_count": null,
   "id": "b4c291a1",
   "metadata": {},
   "outputs": [],
   "source": [
    "#The month of February normally has 28 days. If it is a leap year, February has 29 days. \n",
    "Write a program that:\n",
    "\n",
    "    - Asks the user to enter a year #done\n",
    "\n",
    "    - The program should then display the number of days in February for that year\n",
    "\n",
    " Use the following criteria to identify leap years:\n",
    "\n",
    "1. Determine whether the year is divisible by 100. If it is, then it is a leap year, if and only if, it is also divisible by 400.<br>\n",
    "\n",
    "    - For example, 2000 is a leap year, but 2100 is not.\n",
    "\n",
    "2. If the year is not divisible by 100, then it is a leap year if and only if it is divisible by 4.,br>\n",
    "\n",
    "    - For example, 2008 is a leap year, but 2009 is not.\n",
    "\n",
    "Here is a sample run of the program:\n",
    "\n",
    "Enter a year: 2008\\\n",
    "\n",
    "In 2008 February has 29 days."
   ]
  },
  {
   "cell_type": "code",
   "execution_count": null,
   "id": "5fb39be0",
   "metadata": {},
   "outputs": [],
   "source": [
    "year= int(input(\"Enter year: \"))\n",
    "output=\"\"\n",
    "\n",
    "if year>0:\n",
    "    output= \"In \" +format(year) + \" February has \" \n",
    "\n",
    "    if year %100==0:\n",
    "        if year %400==0:\n",
    "            output+=\"29\"\n",
    "        else:\n",
    "            output +=\"28\"\n",
    "    else:\n",
    "        if year %4==0:\n",
    "            output +=\"29\"\n",
    "        else:\n",
    "            output +=\"28\"\n",
    "    output +=\" days.\"\n",
    "    \n",
    "else: #invalid\n",
    "    output= \"Entery invalid, try again\"\n",
    "print(output)"
   ]
  },
  {
   "cell_type": "code",
   "execution_count": null,
   "id": "913e8906",
   "metadata": {},
   "outputs": [],
   "source": [
    "#The world population reached 7 billion people in year 2011, and was growing at the rate of 1.1% each year. Assuming that the population continues to grow at the same rate, display the first year that the population will be over 8 billion."
   ]
  },
  {
   "cell_type": "code",
   "execution_count": null,
   "id": "939f82fa",
   "metadata": {},
   "outputs": [],
   "source": [
    "starting_year=2011\n",
    "GR=0.011\n",
    "population=7\n",
    "\n",
    "while True:\n",
    "    population *=(GR*1)\n",
    "    starting_year+=1\n",
    "    if population >= 8:\n",
    "        break\n",
    "print(f\"population will exceed 8 billion by year {starting_year}\")"
   ]
  },
  {
   "cell_type": "code",
   "execution_count": null,
   "id": "2cff8efd",
   "metadata": {},
   "outputs": [],
   "source": [
    "#Create a variable that contains a number between 1 and 10 (inclusive).  Then, write code that:\n",
    "\n",
    "    - Tells the user that you are thinking of a number between 1 and 10.\n",
    "\n",
    "    - Then, asks the user to try and guess the number by entering it.\n",
    "\n",
    "    - If the user's guess is correct, output: \"Nice guess!  You are correct.\"\n",
    "\n",
    "    - If the user's guess is incorrect, output: \"Not quite. You were off by (plus or minus the guessed number)\n",
    "\n",
    "        - e.g If the number is 7, and the user guessed 5, they are off by -2.\n",
    "\n",
    "        - e.g. IF the number is 2, and the user guessed 8, they are off by 6."
   ]
  },
  {
   "cell_type": "code",
   "execution_count": null,
   "id": "62a1059b",
   "metadata": {},
   "outputs": [],
   "source": [
    "import random\n",
    "\n",
    "num= random.randint(1,10)\n",
    "guess= 0\n",
    "\n",
    "while guess!= num:\n",
    "    ask = int(input(\"Guess a num between 1 and 10:\"))\n",
    "    guess = int(ask)\n",
    "    \n",
    "    \n",
    "    if guess== num:\n",
    "        print(\"Nice guess!  You are correct.\")\n",
    "        \n",
    "    elif ask<1 or ask>10:\n",
    "        print(\"out of bound\")\n",
    "      \n",
    "    else:\n",
    "        off= num-guess\n",
    "        print(f\"Not quite. You were off by {off} \")"
   ]
  },
  {
   "cell_type": "code",
   "execution_count": null,
   "id": "c69aab3c",
   "metadata": {},
   "outputs": [],
   "source": [
    "Create a list of integers that represent 400 meter race times in seconds.\n",
    "\n",
    "        - e.g. [49, 51, 53, 47]\n",
    "\n",
    "Then, write a program that:\n",
    "\n",
    "    - Asks the user to enter their 400 meter race time (an integer that represents seconds).\n",
    "\n",
    "    - Compare the entered race time to the times in the list.\n",
    "\n",
    "    - If the user's entered time is better than one or more of the listed times, output: \"Nice job!  You came in (first, second, third, etc.).\n",
    "\n",
    "    - If the user's entered time is not better than the listed times, output: \"Good race! Maybe next time.\""
   ]
  },
  {
   "cell_type": "code",
   "execution_count": null,
   "id": "43297225",
   "metadata": {},
   "outputs": [],
   "source": []
  },
  {
   "cell_type": "code",
   "execution_count": 5,
   "id": "2c1252b2",
   "metadata": {},
   "outputs": [
    {
     "name": "stdout",
     "output_type": "stream",
     "text": [
      "enter your time:45\n",
      "[38, 44, 45, 55, 59]\n",
      "you came in 2\n"
     ]
    }
   ],
   "source": [
    "li= [55,44,38,59]\n",
    "index=0\n",
    "\n",
    "enter= int(input(\"enter your time:\"))\n",
    "li.insert(-1,enter)\n",
    "li.sort()\n",
    "print(li)\n",
    "if enter==li[-1]:\n",
    "    print(\"last\")\n",
    "elif li[0]<enter:\n",
    "    print(\"You came in second\")\n",
    "    if li[1]>enter and li[2]> enter:\n",
    "        print(\"You came in third\")\n",
    "    else:\n",
    "        print(\"You came in fourth\")\n",
    "else:\n",
    "    li.index(enter)\n",
    "    index+=1\n",
    "    print(f\"you came in {index}\")\n"
   ]
  },
  {
   "cell_type": "code",
   "execution_count": null,
   "id": "3b1aca57",
   "metadata": {},
   "outputs": [],
   "source": []
  }
 ],
 "metadata": {
  "kernelspec": {
   "display_name": "Python 3 (ipykernel)",
   "language": "python",
   "name": "python3"
  },
  "language_info": {
   "codemirror_mode": {
    "name": "ipython",
    "version": 3
   },
   "file_extension": ".py",
   "mimetype": "text/x-python",
   "name": "python",
   "nbconvert_exporter": "python",
   "pygments_lexer": "ipython3",
   "version": "3.9.12"
  }
 },
 "nbformat": 4,
 "nbformat_minor": 5
}
