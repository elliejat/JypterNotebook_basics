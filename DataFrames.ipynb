{
 "cells": [
  {
   "cell_type": "markdown",
   "metadata": {},
   "source": [
    "### Assignment #4a\n",
    "Due: 2022-10-25<br>\n",
    "Ellen Jatul"
   ]
  },
  {
   "cell_type": "markdown",
   "metadata": {},
   "source": [
    "1. Do the following:<br>\n",
    "    a. First, create a dictionary called \"census_data\" that contains a key value called, \"cities.\" Then, create a list containing at least five major U.S. cities in the United States which will serve as the value for the \"cities\" key.<br>\n",
    "    b. Next, create a key called \"years\" along with a list that will serve as the value for the \"years\" key that contains at least three years associated with at least three census years for each city.<br>\n",
    "    c. Finally, create a key called \"population\" with a list containing three years'-worth of census data that is associated with the cities and the census years included in the previous dictionary entries."
   ]
  },
  {
   "cell_type": "code",
   "execution_count": 10,
   "metadata": {},
   "outputs": [
    {
     "name": "stdout",
     "output_type": "stream",
     "text": [
      "{'cities': ['NYC', 'SEA', 'HST', 'SF', 'LA'], 'years': [2022, 2021, 2020, 2019, 2018], 'population': [2222, 53443, 23443, 343243, 3432]}\n"
     ]
    }
   ],
   "source": [
    "census_data={\n",
    "    'cities' : ['NYC','SEA','HST','SF','LA'],\n",
    "    'years': [2022,2021,2020,2019,2018],\n",
    "    'population': [2222,53443,23443,343243,3432]\n",
    "}\n",
    "\n",
    "print(census_data)"
   ]
  },
  {
   "cell_type": "markdown",
   "metadata": {},
   "source": [
    "2. Convert the above \"census_data\" dictionary to a pandas dataframe.  Then:<br>\n",
    "    a. Display the data frame columns by population, year, and city.<br>\n",
    "    b. Display the dataframe columns from question \"a\" sorted by city, year, and population.<br>\n",
    "    c. Display the dataframe columns from question \"a\" sorted by population, year, and city.<br>\n",
    "    d. Display the dataframe columns city and population sorted by population and year."
   ]
  },
  {
   "cell_type": "code",
   "execution_count": 34,
   "metadata": {},
   "outputs": [
    {
     "name": "stdout",
     "output_type": "stream",
     "text": [
      "  cities  years  population\n",
      "0    NYC   2022        2222\n",
      "1    SEA   2021       53443\n",
      "2    HST   2020       23443\n",
      "3     SF   2019      343243\n",
      "4     LA   2018        3432\n",
      "   population  years cities\n",
      "0        2222   2022    NYC\n",
      "1       53443   2021    SEA\n",
      "2       23443   2020    HST\n",
      "3      343243   2019     SF\n",
      "4        3432   2018     LA\n",
      "   population  years\n",
      "0        2222   2022\n",
      "1       53443   2021\n",
      "2       23443   2020\n",
      "3      343243   2019\n",
      "4        3432   2018\n"
     ]
    }
   ],
   "source": [
    "import pandas as pd\n",
    "\n",
    "df=pd.DataFrame.from_dict(census_data)\n",
    "print(df)\n",
    "\n",
    "df=pd.DataFrame.from_dict(census_data)\n",
    "df= df[['population','years','cities']]\n",
    "print(df)\n",
    "\n",
    "#df.insert(len(df.columns)-1, 'years', df.pop('years'))\n",
    "#df.insert(len(df.columns)-1, 'population', df.pop('population')\n",
    "\n",
    "df.pop('cities')\n",
    "print(df)"
   ]
  },
  {
   "cell_type": "markdown",
   "metadata": {},
   "source": [
    "3. Re-create the above pandas dataframe from question #2, but name the rows using Roman numerals (i.e. \"I\",\"II\",\"III\",\"IV\",\"V\", and so on). Now:<br>\n",
    "    a. Display only row \"VII\"<br>\n",
    "    b. Display only rows \"III\", \"VII\", and \"XI\", and sort the subset by population"
   ]
  },
  {
   "cell_type": "code",
   "execution_count": 59,
   "metadata": {},
   "outputs": [
    {
     "data": {
      "text/plain": [
       "population    3432\n",
       "years         2018\n",
       "Name: 4, dtype: int64"
      ]
     },
     "metadata": {},
     "output_type": "display_data"
    },
    {
     "data": {
      "text/plain": [
       "3    343243\n",
       "4      3432\n",
       "Name: population, dtype: int64"
      ]
     },
     "execution_count": 59,
     "metadata": {},
     "output_type": "execute_result"
    }
   ],
   "source": [
    "df.rename(index={0:\"I\",1:\"II\",2:\"III\",3:\"IV\",4:\"V\", 5:\"VI\"})\n",
    "display(df.iloc[4])\n",
    "\n",
    "df.loc[[3,4], 'population']\n",
    "#df.sort_values(by='population', ascending= True)"
   ]
  },
  {
   "cell_type": "markdown",
   "metadata": {},
   "source": [
    "4. Create a dictionary called, \"pet_owners_dict\". The five key values should be the names of people who are pet owners with at least three pets each.  Each value should be an embedded dictionary that contains a number for each pet (i.e. 1, 2, 3), along with the type of each pet for the value (i.e. \"cat\",\"dog\",\"rabbit\").  Now:<br>\n",
    "    a. Convert the dictionary to a pandas dataframe.<br>\n",
    "    b. Display the entire contents of the dataframe in table form.<br>\n",
    "    c. Transpose the dataframe so that the owners are on the left side of the row, and each pet type is listed consecutively."
   ]
  },
  {
   "cell_type": "code",
   "execution_count": 66,
   "metadata": {},
   "outputs": [
    {
     "name": "stdout",
     "output_type": "stream",
     "text": [
      "      el   cole  cindy    carolyn michelle\n",
      "1    dog    dog    dog        dog      cat\n",
      "2  horse    cat   goat  butterfly     goat\n",
      "3  sheep  sheep  sheep    chicken    sheep\n",
      "            1          2        3\n",
      "el        dog      horse    sheep\n",
      "cole      dog        cat    sheep\n",
      "cindy     dog       goat    sheep\n",
      "carolyn   dog  butterfly  chicken\n",
      "michelle  cat       goat    sheep\n"
     ]
    }
   ],
   "source": [
    "import pandas as pd\n",
    "\n",
    "pet_owners_dict={\n",
    "    'el':{1: 'dog',2:'horse',3:'sheep'},\n",
    "    'cole':{1: 'dog',2:'cat',3:'sheep'},\n",
    "    'cindy':{1: 'dog',2:'goat',3:'sheep'},\n",
    "    'carolyn':{1: 'dog',2:'butterfly',3:'chicken'},\n",
    "    'michelle':{1: 'cat',2:'goat',3:'sheep'}\n",
    "}\n",
    "\n",
    "df= pd.DataFrame.from_dict(pet_owners_dict)\n",
    "print(df)\n",
    "\n",
    "df2= df.transpose()\n",
    "print(df2)"
   ]
  },
  {
   "cell_type": "markdown",
   "metadata": {},
   "source": [
    "5. Import the \"titanic.csv\" file into a pandas dataframe.  Then:<br>\n",
    "    a. Display the first five records in the \"titanic.csv\" dataframe.<br>\n",
    "    b. Now, only display the \"PassengerId\", \"Name\", \"Pclass\", \"Sex\", and \"Age\" columns from the dataframe.<br>\n",
    "    c. Next, create a new dataframe that contains only the \"Sex\" and \"Age\" columns.<br>\n",
    "    d. Finally, see if you can figure out how to calculate the average age of the male passengers on the Titanic as well as the average age of the female passengers."
   ]
  },
  {
   "cell_type": "code",
   "execution_count": 98,
   "metadata": {},
   "outputs": [
    {
     "name": "stdout",
     "output_type": "stream",
     "text": [
      "      Sex        Age\n",
      "0  female  30.272362\n",
      "1    male  30.272732\n"
     ]
    }
   ],
   "source": [
    "import os\n",
    "import pandas as pd\n",
    "\n",
    "df= pd.read_csv('C:/Users/ellen/Downloads/titanic.csv')\n",
    "df.head(5)\n",
    "\n",
    "df2=df[['PassengerId', 'Name', 'Pclass', 'Sex','Age']]\n",
    "df2.head()\n",
    "\n",
    "df3= df2[['Sex','Age']]\n",
    "df3.head()\n",
    "\n",
    "df4=df3.groupby('Sex', as_index= False).Age.mean()\n",
    "print(df4)"
   ]
  }
 ],
 "metadata": {
  "kernelspec": {
   "display_name": "Python 3 (ipykernel)",
   "language": "python",
   "name": "python3"
  },
  "language_info": {
   "codemirror_mode": {
    "name": "ipython",
    "version": 3
   },
   "file_extension": ".py",
   "mimetype": "text/x-python",
   "name": "python",
   "nbconvert_exporter": "python",
   "pygments_lexer": "ipython3",
   "version": "3.7.1"
  }
 },
 "nbformat": 4,
 "nbformat_minor": 4
}
