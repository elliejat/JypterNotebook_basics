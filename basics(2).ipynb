{
 "cells": [
  {
   "cell_type": "code",
   "execution_count": 1,
   "id": "ece53675",
   "metadata": {},
   "outputs": [],
   "source": [
    "#LAB1 \n",
    "Name: ellen Jatul\n",
    "Date: 2022-08-30"
   ]
  },
  {
   "cell_type": "code",
   "execution_count": null,
   "id": "c0b18091",
   "metadata": {},
   "outputs": [],
   "source": [
    "galaxy= 42\n",
    "print(galaxy)"
   ]
  },
  {
   "cell_type": "code",
   "execution_count": null,
   "id": "f3618f37",
   "metadata": {},
   "outputs": [],
   "source": [
    "color=input(\"what is your favorite color? \")\n",
    "print (f\"{color} its a nice color\")\n",
    "#ask fav color and return"
   ]
  },
  {
   "cell_type": "code",
   "execution_count": null,
   "id": "1f195954",
   "metadata": {},
   "outputs": [],
   "source": [
    "fn= input(\"whats your first name?\")\n",
    "ln= input(\"whats your last name?\")\n",
    "print(f\"{fn}.upper() \\n {ln}.upper()\")"
   ]
  },
  {
   "cell_type": "code",
   "execution_count": null,
   "id": "4663581d",
   "metadata": {},
   "outputs": [],
   "source": [
    "#q4\n",
    "a=25+77\n",
    "b=4*10\n",
    "c=3**5 #pow(3,5)\n",
    "d= 17/5\n",
    "e= 17//5\n",
    "f= 17%5"
   ]
  },
  {
   "cell_type": "code",
   "execution_count": null,
   "id": "55dd3d8f",
   "metadata": {},
   "outputs": [],
   "source": [
    "#create list\n",
    "my_list= [1,3,5,7,9]"
   ]
  },
  {
   "cell_type": "code",
   "execution_count": null,
   "id": "589f3abf",
   "metadata": {},
   "outputs": [],
   "source": [
    "#index\n",
    "my_list[1,3,5,7,9]\n",
    "print[3]"
   ]
  },
  {
   "cell_type": "code",
   "execution_count": null,
   "id": "1f2cc2ba",
   "metadata": {},
   "outputs": [],
   "source": [
    "#adding 10 to list\n",
    "my_list.insert(-1,10)"
   ]
  },
  {
   "cell_type": "code",
   "execution_count": null,
   "id": "d3569977",
   "metadata": {},
   "outputs": [],
   "source": [
    "#removing\n",
    "my_list.pop(-1)\n",
    "print(my_list)"
   ]
  },
  {
   "cell_type": "code",
   "execution_count": null,
   "id": "4f8b1dc8",
   "metadata": {},
   "outputs": [],
   "source": [
    "#sort\n",
    "my_list.sort(reverse=True)"
   ]
  },
  {
   "cell_type": "code",
   "execution_count": 1,
   "id": "c8c5935e",
   "metadata": {},
   "outputs": [
    {
     "name": "stdout",
     "output_type": "stream",
     "text": [
      "7\n"
     ]
    }
   ],
   "source": [
    "my_list=[1,3,5,7,9,]\n",
    "print(my_list[-2])"
   ]
  },
  {
   "cell_type": "code",
   "execution_count": 32,
   "id": "e340a1cc",
   "metadata": {},
   "outputs": [
    {
     "name": "stdout",
     "output_type": "stream",
     "text": [
      "How much merchandise did you sell during the quarter? 90\n",
      "Tough times! Hopefully, next quarter is a better one.\n"
     ]
    }
   ],
   "source": []
  },
  {
   "cell_type": "code",
   "execution_count": 37,
   "id": "a2b790bf",
   "metadata": {},
   "outputs": [
    {
     "name": "stdout",
     "output_type": "stream",
     "text": [
      "How much merchandise did you sell during the quarter? 50000\n"
     ]
    }
   ],
   "source": []
  }
 ],
 "metadata": {
  "kernelspec": {
   "display_name": "Python 3 (ipykernel)",
   "language": "python",
   "name": "python3"
  },
  "language_info": {
   "codemirror_mode": {
    "name": "ipython",
    "version": 3
   },
   "file_extension": ".py",
   "mimetype": "text/x-python",
   "name": "python",
   "nbconvert_exporter": "python",
   "pygments_lexer": "ipython3",
   "version": "3.9.12"
  }
 },
 "nbformat": 4,
 "nbformat_minor": 5
}
