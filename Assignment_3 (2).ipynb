{
 "cells": [
  {
   "cell_type": "markdown",
   "metadata": {},
   "source": [
    "### Assignment #3\n",
    "Due: 2022-10-04<br>\n",
    "*(Ellen Jatul)*"
   ]
  },
  {
   "cell_type": "markdown",
   "metadata": {},
   "source": [
    "1. Assign the word, \"Pneumonoultramicroscopicsilicovolcanoconiosis\" to a variable called, \"long_word.\" Then, do the following:<br>\n",
    "    a. Obtain the length of the word, and print that out.<br>\n",
    "    b. Create a loop that cycles through each letter in the word and keeps count of how many times each letter is used in the word.  Print out the list of letters and the number of times each it used after the loop finishes.<br>\n",
    "    c. Capture a slice of the the above word that isolates the string, \"microscopic,\" and prints that out.<br>\n",
    "    d. What does \"long_word[:]\" return? Why?<br>\n",
    "    e. What happens when you run, \"long_word[0] = 'Z'\"?  Why did you get the result that you got?<br>\n",
    "    f. Is the string, \"silicovo\" contained in the above word?  Write some code that proves that.<br>\n",
    "    g. Research the various string methods that can be used on a string object, and try it out. Explain the result.<br>\n",
    "    h. How would you capitalize the entire word above?  Do so.<br>\n",
    "    i. Create a string sentence that reads: \"I hope I never get Pneumonoultramicroscopicsilicovolcanoconiosis\" that uses an f-string and a variable placeholder for the above word.<br>\n",
    "    j. What is the definition of, \"Pneumonoultramicroscopicsilicovolcanoconiosis?\"<br> "
   ]
  },
  {
   "cell_type": "code",
   "execution_count": 34,
   "metadata": {},
   "outputs": [
    {
     "name": "stdout",
     "output_type": "stream",
     "text": [
      "45\n",
      "microscopic\n",
      "13\n",
      "Pneumonoultramicroscopicsilicovolcanoconiosis\n",
      "Pneumonoultramicroscopicsilicovolcanoconiosis\n",
      "24\n",
      "PNEUMONOULTRAMICROSCOPICSILICOVOLCANOCONIOSIS\n",
      "I hope i never get Pneumonoultramicroscopicsilicovolcanoconiosis\n"
     ]
    }
   ],
   "source": [
    "long_word= \"Pneumonoultramicroscopicsilicovolcanoconiosis\"\n",
    "print(len(long_word))\n",
    "\n",
    "print(long_word[13:24])\n",
    "print(long_word.find('microscopic')) #tell me which index microscopic starts at\n",
    "print(long_word[:]) #prints out everything bc your not slicing the string\n",
    "\n",
    "# to replace char at specific index, you can use .replace() or slicing bc the string object isnt compatible with manipulation like this.\n",
    "index=0\n",
    "newchar= 'Z'\n",
    "long_word= long_word[:index]+newchar+long_word[index+1:]\n",
    "print(long_word)\n",
    "\n",
    "print(long_word.find(\"silicovo\")) #yes this word appears in string starting at index 24\n",
    "print(long_word.upper()) #turns the whole string into uppercase\n",
    "print(f\"I hope i never get \" + long_word)\n",
    "\n",
    "#definition of long_word is: A lung disease caused by the inhalation of very fine silicate or quartz dust, causing inflammation in the lungs"
   ]
  },
  {
   "cell_type": "code",
   "execution_count": 46,
   "metadata": {},
   "outputs": [
    {
     "ename": "KeyError",
     "evalue": "'n'",
     "output_type": "error",
     "traceback": [
      "\u001b[1;31m---------------------------------------------------------------------------\u001b[0m",
      "\u001b[1;31mKeyError\u001b[0m                                  Traceback (most recent call last)",
      "Input \u001b[1;32mIn [46]\u001b[0m, in \u001b[0;36m<cell line: 4>\u001b[1;34m()\u001b[0m\n\u001b[0;32m      4\u001b[0m \u001b[38;5;28;01mfor\u001b[39;00m element \u001b[38;5;129;01min\u001b[39;00m long_word:\n\u001b[0;32m      5\u001b[0m     \u001b[38;5;28;01mif\u001b[39;00m element \u001b[38;5;129;01min\u001b[39;00m long_word:\n\u001b[1;32m----> 6\u001b[0m         freq[element]\u001b[38;5;241m+\u001b[39m\u001b[38;5;241m=\u001b[39m\u001b[38;5;241m1\u001b[39m\n\u001b[0;32m      7\u001b[0m     \u001b[38;5;28;01melse\u001b[39;00m:\n\u001b[0;32m      8\u001b[0m         freq[element]\u001b[38;5;241m=\u001b[39m\u001b[38;5;241m1\u001b[39m\n",
      "\u001b[1;31mKeyError\u001b[0m: 'n'"
     ]
    }
   ],
   "source": [
    "#ignore, i was playing around.\n",
    "long_word= \"Pneumonoultramicroscopicsilicovolcanoconiosis\"\n",
    "\n",
    "freq= {}\n",
    "for element in long_word:\n",
    "    if element in long_word:\n",
    "        freq[element]+=1\n",
    "    else:\n",
    "        freq[element]=1\n",
    "for key, value in freq.items():\n",
    "    print(f\"{key}:{value}\")"
   ]
  },
  {
   "cell_type": "code",
   "execution_count": 47,
   "metadata": {},
   "outputs": [
    {
     "name": "stdout",
     "output_type": "stream",
     "text": [
      "P: 1\n",
      "n: 4\n",
      "e: 1\n",
      "u: 2\n",
      "m: 2\n",
      "o: 9\n",
      "l: 3\n",
      "t: 1\n",
      "r: 2\n",
      "a: 2\n",
      "i: 6\n",
      "c: 6\n",
      "s: 4\n",
      "p: 1\n",
      "v: 1\n"
     ]
    }
   ],
   "source": [
    "import collections\n",
    "long_word= \"Pneumonoultramicroscopicsilicovolcanoconiosis\"\n",
    "\n",
    "el_freq = collections.Counter(long_word)\n",
    "# printing the element and the frequency\n",
    "for key, value in el_freq.items():\n",
    "   print(f\"{key}: {value}\")"
   ]
  },
  {
   "cell_type": "code",
   "execution_count": 39,
   "metadata": {},
   "outputs": [
    {
     "name": "stdout",
     "output_type": "stream",
     "text": [
      "umonoultramicroscopicsilicovolcanoconiosis\n",
      "Pneum\n",
      "sis\n",
      "Pneumonoultramicroscopicsilicovolcanocon\n"
     ]
    }
   ],
   "source": [
    "long_word= \"Pneumonoultramicroscopicsilicovolcanoconiosis\"\n",
    "print(long_word[3:]) \n",
    "print(long_word[:5]) \n",
    "print(long_word[-3:]) \n",
    "print(long_word[:-5]) "
   ]
  },
  {
   "cell_type": "markdown",
   "metadata": {},
   "source": [
    "2. Write a function called favorite_book() that accepts one parameter, title. The function should print a message, such as, \"One of my favorite books is Alice in Wonderland.\" Call the function, making sure to include a book title as an argument in the function call."
   ]
  },
  {
   "cell_type": "code",
   "execution_count": 10,
   "metadata": {},
   "outputs": [
    {
     "name": "stdout",
     "output_type": "stream",
     "text": [
      "One of my favorite books is Genisis\n"
     ]
    }
   ],
   "source": [
    "def favorite_book(title):\n",
    "    print(\"One of my favorite books is \" +title)\n",
    "favorite_book('Genisis')"
   ]
  },
  {
   "cell_type": "code",
   "execution_count": 12,
   "metadata": {},
   "outputs": [
    {
     "name": "stdout",
     "output_type": "stream",
     "text": [
      "Enter your favorite book: alice\n",
      "One of my favorite books is alice\n"
     ]
    }
   ],
   "source": [
    "def favorite_book(title):\n",
    "    title= str(input(\"Enter your favorite book: \"))\n",
    "    print(\"One of my favorite books is \" +title)\n",
    "favorite_book(title)"
   ]
  },
  {
   "cell_type": "markdown",
   "metadata": {},
   "source": [
    "3. Write a function called make_sundae that accepts a variable number of toppings that would go on an ice cream sundae.<br>\n",
    "    a. Call the function to create a sundae with at least 3 of your favorite sundae toppings.<br>\n",
    "    b. Call the function again, this time adding at least 8 toppings. Make sure to go hog-wild."
   ]
  },
  {
   "cell_type": "code",
   "execution_count": 6,
   "metadata": {},
   "outputs": [
    {
     "name": "stdout",
     "output_type": "stream",
     "text": [
      "create sundae by adding toppings!\n",
      "your sundae order has: chocolate on your sundae\n",
      "your sundae order has: sprinkles on your sundae\n",
      "your sundae order has: mango on your sundae\n"
     ]
    }
   ],
   "source": [
    "def make_sundae(*toppings):\n",
    "    print(\"create sundae by adding toppings!\")\n",
    "    for top in toppings:\n",
    "        print(\"your sundae order has: \"+ top + \" on your sundae\")\n",
    "\n",
    "make_sundae('chocolate','sprinkles','mango')    "
   ]
  },
  {
   "cell_type": "markdown",
   "metadata": {},
   "source": [
    "4. Do the following:<br>\n",
    "    - Write a function called make_shirt() that accepts a size and the text of a message that should be printed on the shirt.\n",
    "    - The function should print a sentence summarizing the size of the shirt and the message printed on it. \n",
    "    - Call the function once using positional arguments to make a shirt. Call the function a second time using keyword arguments. Modify the make_shirt() function so that shirts are large by default with a message that reads I love Python. Make a large shirt and a medium shirt with the default message, and a shirt of any size with a different message."
   ]
  },
  {
   "cell_type": "code",
   "execution_count": 53,
   "metadata": {},
   "outputs": [
    {
     "name": "stdout",
     "output_type": "stream",
     "text": [
      "This shirt is a size large t-shirt\n",
      "It says: I love Python\n",
      "This shirt is a size medium t-shirt\n",
      "It says: I love Python\n",
      "This shirt is a size small t-shirt\n",
      "It says: Why did the programmer switch companies?\n",
      "bc she didnt get arrays\n"
     ]
    }
   ],
   "source": [
    "def make_shirt(size='large', msg='I love Python'):\n",
    "    print(\"This shirt is a size \" +size +\" t-shirt\")\n",
    "    print(\"It says: \" + msg)\n",
    "make_shirt()\n",
    "make_shirt(size='medium')\n",
    "make_shirt('small','Why did the programmer switch companies?\\nbc she didnt get arrays')"
   ]
  },
  {
   "cell_type": "markdown",
   "metadata": {},
   "source": [
    "5. Try writing the following code:<br>\n",
    "    a. Write a function called make_album() that builds a dictionary describing a music album.<br>\n",
    "       • The function should take in an artist name and an album title, and it should return a dictionary containing these two pieces of information.\n",
    "    c. Use the function to make three dictionaries representing different albums.<br>\n",
    "    d. Print each return value to show that the dictionaries are storing the album information correctly.<br>\n",
    "    e. Use *None* to add an optional parameter to make_album() that allows you to store the number of songs on an album.<br>\n",
    "       • If the calling line includes a value for the number of songs, add that value to the album’s dictionary.\n",
    "    f. Make at least one new function call that includes the number of songs on an album.<br>\n",
    "    g. Write a while loop that allows users to enter an album’s artist and title.<br>\n",
    "    h. Once you have that information, call make_album() with the user’s input and print the dictionary that’s created.<br>\n",
    "       • Be sure to include a quit value in the while loop."
   ]
  },
  {
   "cell_type": "code",
   "execution_count": null,
   "metadata": {},
   "outputs": [],
   "source": [
    "def make_album(artist, title, tracks=0):\n",
    "    album_dict = {\n",
    "        'artist': artist.title(),\n",
    "        'title': title.title(),\n",
    "        }\n",
    "    if tracks:\n",
    "        album_dict['tracks'] = tracks\n",
    "    return album_dict\n",
    "\n",
    "title_prompt = \"\\nWhat album are you thinking of? \"\n",
    "artist_prompt = \"Who's the artist? \"\n",
    "\n",
    "print(\"Enter 'quit' at any time to stop.\")\n",
    "\n",
    "while True:\n",
    "    title = input(title_prompt)\n",
    "    if title == 'quit':\n",
    "        break\n",
    "    \n",
    "    artist = input(artist_prompt)\n",
    "    if artist == 'quit':\n",
    "        break\n",
    "\n",
    "    album = make_album(artist, title)\n",
    "    print(album)\n",
    "\n",
    "print(\"\\n Bye Bye!\")"
   ]
  },
  {
   "cell_type": "markdown",
   "metadata": {},
   "source": [
    "6. Write the following program for handling messages:<br>\n",
    "    a. Make a list containing a series of short text messages.<br>\n",
    "    b. Pass the list to a function called show_messages(), which prints each text message.<br>\n",
    "    c. Then, write a function called send_messages() that prints each text message and moves each message to a new list called sent_messages as it’s printed.<br>\n",
    "        • After calling the function, print both of your lists to make sure the messages were moved correctly.\n",
    "    d. After that, call the function send_messages() with a copy of the list of messages.<br>\n",
    "        • After calling the function, print both of your lists to show that the original list has retained its messages."
   ]
  },
  {
   "cell_type": "code",
   "execution_count": null,
   "metadata": {},
   "outputs": [],
   "source": [
    "def show_messages(messages):\n",
    "    for message in messages:\n",
    "        print(message)\n",
    "\n",
    "def send_messages(messages):\n",
    "    \n",
    "    # Build a new list to hold the send messages.\n",
    "    copy_msg = []\n",
    "\n",
    "    while messages:\n",
    "        message = messages.append()\n",
    "        copy = message + ' sent'\n",
    "        copy_msg.append(copy)\n",
    "\n",
    "    # Add the great magicians back into magicians.\n",
    "    for copy_msgs in copy_msg:\n",
    "        messages.append(copy_msgs)\n",
    "\n",
    "    return messages\n",
    "\n",
    "messages = ['Hi', 'By', 'Beep Bop']\n",
    "show_messages(messages)\n",
    "\n",
    "print(\"sent:\")\n",
    "copy_msg = send_messages(messages[:])\n",
    "show_messages(copy_msg)"
   ]
  },
  {
   "cell_type": "markdown",
   "metadata": {},
   "source": [
    "7. Perform the following steps:<br>\n",
    "    a. Create two Pandas series:<br>\n",
    "        • One with the numbers -3, -1, 1, 3, 5, 7, and 9 and an index of a, c, e, g, i, k, and m\n",
    "        • The second with the numbers -2, 0, 2, 4, 6, 8, and 10 with an index of g, e, i, a, k, c, and m\n",
    "    b. Select all of the positive numbers from the first series.<br>\n",
    "    c. Next, select only the negative numbers from the second series.<br>\n",
    "    d. Now, select only the negative numbers that match for each series (i.e. -3, 3, -1, 1 from the first series).<br>\n",
    "    e. Try displaying the boolean result that checks for only positive numbers for the first series (True).<br>\n",
    "    f. Next, add the first series to the second series.<br>\n",
    "    g. Then, multiply the first series to the second series.<br>"
   ]
  },
  {
   "cell_type": "code",
   "execution_count": 20,
   "metadata": {},
   "outputs": [
    {
     "name": "stdout",
     "output_type": "stream",
     "text": [
      "a     1\n",
      "c     7\n",
      "e     1\n",
      "g     1\n",
      "i     7\n",
      "k    13\n",
      "m    19\n",
      "dtype: int64 a   -12\n",
      "c    -8\n",
      "e     0\n",
      "g    -6\n",
      "i    10\n",
      "k    42\n",
      "m    90\n",
      "dtype: int64\n",
      "e    1\n",
      "g    3\n",
      "i    5\n",
      "k    7\n",
      "m    9\n",
      "dtype: int64\n",
      "g   -2\n",
      "dtype: int64\n",
      "0     -3\n",
      "1     -2\n",
      "2     -1\n",
      "3      0\n",
      "4      1\n",
      "5      2\n",
      "6      3\n",
      "7      4\n",
      "8      5\n",
      "9      6\n",
      "10     7\n",
      "11     8\n",
      "12     9\n",
      "13    10\n",
      "dtype: int64\n",
      "Series([], dtype: int64)\n",
      "Series([], dtype: int64)\n"
     ]
    },
    {
     "ename": "NameError",
     "evalue": "name 'unioin' is not defined",
     "output_type": "error",
     "traceback": [
      "\u001b[1;31m---------------------------------------------------------------------------\u001b[0m",
      "\u001b[1;31mNameError\u001b[0m                                 Traceback (most recent call last)",
      "Input \u001b[1;32mIn [20]\u001b[0m, in \u001b[0;36m<cell line: 26>\u001b[1;34m()\u001b[0m\n\u001b[0;32m     22\u001b[0m \u001b[38;5;28mprint\u001b[39m(inter[inter\u001b[38;5;241m<\u001b[39m\u001b[38;5;241m0\u001b[39m])\n\u001b[0;32m     24\u001b[0m \u001b[38;5;66;03m#uncommon elements in both series\u001b[39;00m\n\u001b[1;32m---> 26\u001b[0m notcomm\u001b[38;5;241m=\u001b[39m \u001b[43munioin\u001b[49m[\u001b[38;5;241m~\u001b[39munion\u001b[38;5;241m.\u001b[39misin(intersect)]\n\u001b[0;32m     27\u001b[0m \u001b[38;5;28mprint\u001b[39m(notcomm)\n\u001b[0;32m     29\u001b[0m three\u001b[38;5;241m=\u001b[39m one\u001b[38;5;241m+\u001b[39mtwo\n",
      "\u001b[1;31mNameError\u001b[0m: name 'unioin' is not defined"
     ]
    }
   ],
   "source": [
    "import pandas as pd\n",
    "import numpy as np\n",
    "\n",
    "one= pd.Series([-3,-1,1,3,5,7,9], index= ['a','c','e','g','i','k','m'])\n",
    "two= pd.Series([-2,0,2,4,6,8,10], index=['g','e','i','a','k','c','m'])\n",
    "\n",
    "three= one+two\n",
    "four= one*two\n",
    "\n",
    "print(three, four)\n",
    "\n",
    "print(one[one>0])\n",
    "print(two[two<0])\n",
    "\n",
    "#union of series\n",
    "union=pd.Series(np.union1d(one,two))\n",
    "print(union)\n",
    "\n",
    "#intersection of series\n",
    "inter = pd.Series(np.intersect1d(one,two))\n",
    "print(inter)\n",
    "print(inter[inter<0])\n",
    "\n",
    "#uncommon elements in both series\n",
    "\n",
    "notcomm= union[~union.isin(intersect)]\n",
    "print(notcomm)\n",
    "\n",
    "three= one+two\n",
    "four= one*two\n",
    "\n",
    "print(three, four)\n"
   ]
  },
  {
   "cell_type": "markdown",
   "metadata": {},
   "source": [
    "8. Perform the following steps:<br>\n",
    "    a. Create a dictionary that contains five key-value pairs of your favorite dessert types and items.<br>\n",
    "        • i.e. desserts = {\"cookie\":\"chocolate chip\",\"pie\":\"pecan pie\",\"ice cream\":\"mint chocolate chip\"}<br>\n",
    "    b. Convert the desserts dictionary to a Pandas series.<br>\n",
    "    c. Display only the first, third, and fifth series index-value items using boolean logic.<br>\n",
    "    d. Check to see if one of your dessert items is in the series, then check if one that is not in the series is present.<br>\n",
    "    e. Create a list containing 4 out of the 5 dessert types you have in the Pandas series.<br>\n",
    "        • Combine the series dessert data with the list dessert types.  Print the series.<br>\n",
    "    f. Now, remove the dessert type that does not have a dessert value associated with it.\n",
    "    "
   ]
  },
  {
   "cell_type": "code",
   "execution_count": 13,
   "metadata": {},
   "outputs": [
    {
     "name": "stdout",
     "output_type": "stream",
     "text": [
      "cookie       chocolate chip\n",
      "pie             pumpkin pie\n",
      "ice cream             mango\n",
      "macroon             apricot\n",
      "gelato                lemon\n",
      "dtype: object\n"
     ]
    },
    {
     "ename": "ValueError",
     "evalue": "Length of values (5) does not match length of index (4)",
     "output_type": "error",
     "traceback": [
      "\u001b[1;31m---------------------------------------------------------------------------\u001b[0m",
      "\u001b[1;31mValueError\u001b[0m                                Traceback (most recent call last)",
      "Input \u001b[1;32mIn [13]\u001b[0m, in \u001b[0;36m<cell line: 14>\u001b[1;34m()\u001b[0m\n\u001b[0;32m     12\u001b[0m dessert_df\u001b[38;5;241m=\u001b[39m[\u001b[38;5;28;01mTrue\u001b[39;00m,\u001b[38;5;28;01mFalse\u001b[39;00m,\u001b[38;5;28;01mTrue\u001b[39;00m,\u001b[38;5;28;01mFalse\u001b[39;00m, \u001b[38;5;28;01mTrue\u001b[39;00m]\n\u001b[0;32m     13\u001b[0m d_items\u001b[38;5;241m=\u001b[39m[\u001b[38;5;124m'\u001b[39m\u001b[38;5;124mcookie\u001b[39m\u001b[38;5;124m'\u001b[39m,\u001b[38;5;124m'\u001b[39m\u001b[38;5;124mpie\u001b[39m\u001b[38;5;124m'\u001b[39m,\u001b[38;5;124m'\u001b[39m\u001b[38;5;124mice cream\u001b[39m\u001b[38;5;124m'\u001b[39m, \u001b[38;5;124m'\u001b[39m\u001b[38;5;124mmacroon\u001b[39m\u001b[38;5;124m'\u001b[39m]\n\u001b[1;32m---> 14\u001b[0m y\u001b[38;5;241m=\u001b[39m \u001b[43mpd\u001b[49m\u001b[38;5;241;43m.\u001b[39;49m\u001b[43mSeries\u001b[49m\u001b[43m(\u001b[49m\u001b[43mdessert_df\u001b[49m\u001b[43m,\u001b[49m\u001b[43m \u001b[49m\u001b[43mindex\u001b[49m\u001b[38;5;241;43m=\u001b[39;49m\u001b[43m \u001b[49m\u001b[43md_items\u001b[49m\u001b[43m)\u001b[49m\n\u001b[0;32m     15\u001b[0m \u001b[38;5;28mprint\u001b[39m(y)\n\u001b[0;32m     16\u001b[0m \u001b[38;5;28mprint\u001b[39m(pd\u001b[38;5;241m.\u001b[39mSeries(dessert_df, index, d_items))\n",
      "File \u001b[1;32m~\\anaconda3\\lib\\site-packages\\pandas\\core\\series.py:442\u001b[0m, in \u001b[0;36mSeries.__init__\u001b[1;34m(self, data, index, dtype, name, copy, fastpath)\u001b[0m\n\u001b[0;32m    440\u001b[0m     index \u001b[38;5;241m=\u001b[39m default_index(\u001b[38;5;28mlen\u001b[39m(data))\n\u001b[0;32m    441\u001b[0m \u001b[38;5;28;01melif\u001b[39;00m is_list_like(data):\n\u001b[1;32m--> 442\u001b[0m     \u001b[43mcom\u001b[49m\u001b[38;5;241;43m.\u001b[39;49m\u001b[43mrequire_length_match\u001b[49m\u001b[43m(\u001b[49m\u001b[43mdata\u001b[49m\u001b[43m,\u001b[49m\u001b[43m \u001b[49m\u001b[43mindex\u001b[49m\u001b[43m)\u001b[49m\n\u001b[0;32m    444\u001b[0m \u001b[38;5;66;03m# create/copy the manager\u001b[39;00m\n\u001b[0;32m    445\u001b[0m \u001b[38;5;28;01mif\u001b[39;00m \u001b[38;5;28misinstance\u001b[39m(data, (SingleBlockManager, SingleArrayManager)):\n",
      "File \u001b[1;32m~\\anaconda3\\lib\\site-packages\\pandas\\core\\common.py:557\u001b[0m, in \u001b[0;36mrequire_length_match\u001b[1;34m(data, index)\u001b[0m\n\u001b[0;32m    553\u001b[0m \u001b[38;5;124;03m\"\"\"\u001b[39;00m\n\u001b[0;32m    554\u001b[0m \u001b[38;5;124;03mCheck the length of data matches the length of the index.\u001b[39;00m\n\u001b[0;32m    555\u001b[0m \u001b[38;5;124;03m\"\"\"\u001b[39;00m\n\u001b[0;32m    556\u001b[0m \u001b[38;5;28;01mif\u001b[39;00m \u001b[38;5;28mlen\u001b[39m(data) \u001b[38;5;241m!=\u001b[39m \u001b[38;5;28mlen\u001b[39m(index):\n\u001b[1;32m--> 557\u001b[0m     \u001b[38;5;28;01mraise\u001b[39;00m \u001b[38;5;167;01mValueError\u001b[39;00m(\n\u001b[0;32m    558\u001b[0m         \u001b[38;5;124m\"\u001b[39m\u001b[38;5;124mLength of values \u001b[39m\u001b[38;5;124m\"\u001b[39m\n\u001b[0;32m    559\u001b[0m         \u001b[38;5;124mf\u001b[39m\u001b[38;5;124m\"\u001b[39m\u001b[38;5;124m(\u001b[39m\u001b[38;5;132;01m{\u001b[39;00m\u001b[38;5;28mlen\u001b[39m(data)\u001b[38;5;132;01m}\u001b[39;00m\u001b[38;5;124m) \u001b[39m\u001b[38;5;124m\"\u001b[39m\n\u001b[0;32m    560\u001b[0m         \u001b[38;5;124m\"\u001b[39m\u001b[38;5;124mdoes not match length of index \u001b[39m\u001b[38;5;124m\"\u001b[39m\n\u001b[0;32m    561\u001b[0m         \u001b[38;5;124mf\u001b[39m\u001b[38;5;124m\"\u001b[39m\u001b[38;5;124m(\u001b[39m\u001b[38;5;132;01m{\u001b[39;00m\u001b[38;5;28mlen\u001b[39m(index)\u001b[38;5;132;01m}\u001b[39;00m\u001b[38;5;124m)\u001b[39m\u001b[38;5;124m\"\u001b[39m\n\u001b[0;32m    562\u001b[0m     )\n",
      "\u001b[1;31mValueError\u001b[0m: Length of values (5) does not match length of index (4)"
     ]
    }
   ],
   "source": [
    "import pandas as pd\n",
    "\n",
    "dessert = {\n",
    "    'cookie':'chocolate chip',\n",
    "    'pie':'pumpkin pie',\n",
    "    'ice cream': 'mango',\n",
    "    'macroon':'apricot',\n",
    "    'gelato':'lemon'\n",
    "}\n",
    "dessert_df= pd.Series(dessert)\n",
    "print(dessert_df)\n",
    "dessert_df=[True,False,True,False, True]\n",
    "d_items=['cookie','pie','ice cream', 'macroon']\n",
    "y= pd.Series(dessert_df, index= d_items)\n",
    "print(y)\n",
    "print(pd.Series(dessert_df, index, d_items))"
   ]
  }
 ],
 "metadata": {
  "kernelspec": {
   "display_name": "Python 3 (ipykernel)",
   "language": "python",
   "name": "python3"
  },
  "language_info": {
   "codemirror_mode": {
    "name": "ipython",
    "version": 3
   },
   "file_extension": ".py",
   "mimetype": "text/x-python",
   "name": "python",
   "nbconvert_exporter": "python",
   "pygments_lexer": "ipython3",
   "version": "3.9.12"
  }
 },
 "nbformat": 4,
 "nbformat_minor": 4
}
